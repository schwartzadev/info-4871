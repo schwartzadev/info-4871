{
 "cells": [
  {
   "cell_type": "code",
   "execution_count": 1,
   "source": [
    "import pandas as pd\n",
    "\n",
    "behaviors = pd.read_csv('behaviors.tsv', delimiter=\"\\t\", names=['impression_id', 'user_id', 'time', 'history', 'impressions'])"
   ],
   "outputs": [],
   "metadata": {}
  },
  {
   "cell_type": "code",
   "execution_count": 2,
   "source": [
    "behaviors.shape"
   ],
   "outputs": [
    {
     "output_type": "execute_result",
     "data": {
      "text/plain": [
       "(2232748, 5)"
      ]
     },
     "metadata": {},
     "execution_count": 2
    }
   ],
   "metadata": {}
  },
  {
   "cell_type": "code",
   "execution_count": 3,
   "source": [
    "behaviors.head(4)"
   ],
   "outputs": [
    {
     "output_type": "execute_result",
     "data": {
      "text/html": [
       "<div>\n",
       "<style scoped>\n",
       "    .dataframe tbody tr th:only-of-type {\n",
       "        vertical-align: middle;\n",
       "    }\n",
       "\n",
       "    .dataframe tbody tr th {\n",
       "        vertical-align: top;\n",
       "    }\n",
       "\n",
       "    .dataframe thead th {\n",
       "        text-align: right;\n",
       "    }\n",
       "</style>\n",
       "<table border=\"1\" class=\"dataframe\">\n",
       "  <thead>\n",
       "    <tr style=\"text-align: right;\">\n",
       "      <th></th>\n",
       "      <th>impression_id</th>\n",
       "      <th>user_id</th>\n",
       "      <th>time</th>\n",
       "      <th>history</th>\n",
       "      <th>impressions</th>\n",
       "    </tr>\n",
       "  </thead>\n",
       "  <tbody>\n",
       "    <tr>\n",
       "      <th>0</th>\n",
       "      <td>1</td>\n",
       "      <td>U87243</td>\n",
       "      <td>11/10/2019 11:30:54 AM</td>\n",
       "      <td>N8668 N39081 N65259 N79529 N73408 N43615 N2937...</td>\n",
       "      <td>N78206-0 N26368-0 N7578-0 N58592-0 N19858-0 N5...</td>\n",
       "    </tr>\n",
       "    <tr>\n",
       "      <th>1</th>\n",
       "      <td>2</td>\n",
       "      <td>U598644</td>\n",
       "      <td>11/12/2019 1:45:29 PM</td>\n",
       "      <td>N56056 N8726 N70353 N67998 N83823 N111108 N107...</td>\n",
       "      <td>N47996-0 N82719-0 N117066-0 N8491-0 N123784-0 ...</td>\n",
       "    </tr>\n",
       "    <tr>\n",
       "      <th>2</th>\n",
       "      <td>3</td>\n",
       "      <td>U532401</td>\n",
       "      <td>11/13/2019 11:23:03 AM</td>\n",
       "      <td>N128643 N87446 N122948 N9375 N82348 N129412 N5...</td>\n",
       "      <td>N103852-0 N53474-0 N127836-0 N47925-1</td>\n",
       "    </tr>\n",
       "    <tr>\n",
       "      <th>3</th>\n",
       "      <td>4</td>\n",
       "      <td>U593596</td>\n",
       "      <td>11/12/2019 12:24:09 PM</td>\n",
       "      <td>N31043 N39592 N4104 N8223 N114581 N92747 N1207...</td>\n",
       "      <td>N38902-0 N76434-0 N71593-0 N100073-0 N108736-0...</td>\n",
       "    </tr>\n",
       "  </tbody>\n",
       "</table>\n",
       "</div>"
      ],
      "text/plain": [
       "   impression_id  user_id                    time  \\\n",
       "0              1   U87243  11/10/2019 11:30:54 AM   \n",
       "1              2  U598644   11/12/2019 1:45:29 PM   \n",
       "2              3  U532401  11/13/2019 11:23:03 AM   \n",
       "3              4  U593596  11/12/2019 12:24:09 PM   \n",
       "\n",
       "                                             history  \\\n",
       "0  N8668 N39081 N65259 N79529 N73408 N43615 N2937...   \n",
       "1  N56056 N8726 N70353 N67998 N83823 N111108 N107...   \n",
       "2  N128643 N87446 N122948 N9375 N82348 N129412 N5...   \n",
       "3  N31043 N39592 N4104 N8223 N114581 N92747 N1207...   \n",
       "\n",
       "                                         impressions  \n",
       "0  N78206-0 N26368-0 N7578-0 N58592-0 N19858-0 N5...  \n",
       "1  N47996-0 N82719-0 N117066-0 N8491-0 N123784-0 ...  \n",
       "2              N103852-0 N53474-0 N127836-0 N47925-1  \n",
       "3  N38902-0 N76434-0 N71593-0 N100073-0 N108736-0...  "
      ]
     },
     "metadata": {},
     "execution_count": 3
    }
   ],
   "metadata": {}
  },
  {
   "cell_type": "code",
   "execution_count": 4,
   "source": [
    "# I used the following algorithm to generate the `ratings.csv` file:\n",
    "\n",
    "# * For each behavior in the `behaviors.tsv` file:\n",
    "#   * For each impression in the behavior's impressions\n",
    "#     * If the impression is a click (ends with `-1`)\n",
    "#       * Create a record with `userId,articleId,1`\n",
    "#     * If the impression is not a click (ends with `-0`)\n",
    "#       * Create a record with `userId,articleId,-0.5`\n",
    "#     * Ignore items that a user hasn't seen, `librec-auto` assumes zeroes\n",
    "\n",
    "ratings_data = []\n",
    "\n",
    "for index, row in behaviors.iterrows():\n",
    "    impressions = row['impressions'].split(' ')\n",
    "    clicks = list(filter(lambda impression: impression[-2:] == '-1', impressions))\n",
    "    ignores = list(filter(lambda impression: impression[-2:] == '-0', impressions))\n",
    "    [ratings_data.append([row['user_id'], click[:-2], 1]) for click in clicks]\n",
    "    [ratings_data.append([row['user_id'], ignore[:-2], -0.5]) for ignore in ignores]\n",
    "\n",
    "ratings = pd.DataFrame(ratings_data, columns=['user_id', 'item_id', 'numeric_rating'])\n",
    "\n",
    "ratings.shape"
   ],
   "outputs": [
    {
     "output_type": "execute_result",
     "data": {
      "text/plain": [
       "(83507374, 3)"
      ]
     },
     "metadata": {},
     "execution_count": 4
    }
   ],
   "metadata": {}
  },
  {
   "cell_type": "code",
   "execution_count": 5,
   "source": [
    "def filter_by_freq(df: pd.DataFrame, column: str,\n",
    "                   min_freq: int) -> pd.DataFrame:\n",
    "    \"\"\"Filters the DataFrame based on the value frequency in the specified column.\n",
    "\n",
    "    :param df: DataFrame to be filtered.\n",
    "    :param column: Column name that should be frequency filtered.\n",
    "    :param min_freq: Minimal value frequency for the row to be accepted.\n",
    "    :return: Frequency filtered DataFrame.\n",
    "    \"\"\"\n",
    "    # Frequencies of each value in the column.\n",
    "    freq = df[column].value_counts()\n",
    "    # Select frequent values. Value is in the index.\n",
    "    frequent_values = freq[freq >= min_freq].index\n",
    "    # Return only rows with value frequency above threshold.\n",
    "    return df[df[column].isin(frequent_values)]\n",
    "\n",
    "\n",
    "filtered_ratings = ratings\n",
    "\n",
    "items_or_users_have_lt_five = True\n",
    "\n",
    "# We'll need to do this several times, so that users and items all have five items -- repeat until the number of items removed is zero\n",
    "while items_or_users_have_lt_five:\n",
    "    old_list_length = filtered_ratings.shape[0]\n",
    "    print('filtering ratings, current size:', old_list_length)\n",
    "\n",
    "    # Only include users with over 50 ratings\n",
    "    filtered_ratings = filter_by_freq(filtered_ratings, 'user_id', 50)\n",
    "\n",
    "    # Only include items with over 50 ratings\n",
    "    filtered_ratings = filter_by_freq(filtered_ratings, 'item_id', 50)\n",
    "\n",
    "    new_list_length = filtered_ratings.shape[0]\n",
    "\n",
    "    items_or_users_have_lt_five = new_list_length < old_list_length\n",
    "\n",
    "\n",
    "filtered_ratings.shape"
   ],
   "outputs": [
    {
     "output_type": "stream",
     "name": "stdout",
     "text": [
      "filtering ratings, current size: 83507374\n",
      "filtering ratings, current size: 77121260\n",
      "filtering ratings, current size: 77106008\n"
     ]
    },
    {
     "output_type": "execute_result",
     "data": {
      "text/plain": [
       "(77106008, 3)"
      ]
     },
     "metadata": {},
     "execution_count": 5
    }
   ],
   "metadata": {}
  },
  {
   "cell_type": "code",
   "execution_count": 6,
   "source": [
    "print(len(filtered_ratings['user_id'].drop_duplicates()), 'users')\n",
    "print(len(filtered_ratings['item_id'].drop_duplicates()), 'items')"
   ],
   "outputs": [
    {
     "output_type": "stream",
     "name": "stdout",
     "text": [
      "418047 users\n",
      "13393 items\n"
     ]
    }
   ],
   "metadata": {}
  },
  {
   "cell_type": "code",
   "execution_count": 7,
   "source": [
    "freq = filtered_ratings['item_id'].value_counts()\n",
    "\n",
    "# TODO: check for duplicate user/item pairs\n",
    "\n",
    "freq.to_csv('frequency.csv')"
   ],
   "outputs": [],
   "metadata": {}
  },
  {
   "cell_type": "code",
   "execution_count": 8,
   "source": [
    "filtered_ratings.count()"
   ],
   "outputs": [
    {
     "output_type": "execute_result",
     "data": {
      "text/plain": [
       "user_id           77106008\n",
       "item_id           77106008\n",
       "numeric_rating    77106008\n",
       "dtype: int64"
      ]
     },
     "metadata": {},
     "execution_count": 8
    }
   ],
   "metadata": {}
  },
  {
   "cell_type": "code",
   "execution_count": 9,
   "source": [
    "filtered_ratings.head(2)"
   ],
   "outputs": [
    {
     "output_type": "execute_result",
     "data": {
      "text/html": [
       "<div>\n",
       "<style scoped>\n",
       "    .dataframe tbody tr th:only-of-type {\n",
       "        vertical-align: middle;\n",
       "    }\n",
       "\n",
       "    .dataframe tbody tr th {\n",
       "        vertical-align: top;\n",
       "    }\n",
       "\n",
       "    .dataframe thead th {\n",
       "        text-align: right;\n",
       "    }\n",
       "</style>\n",
       "<table border=\"1\" class=\"dataframe\">\n",
       "  <thead>\n",
       "    <tr style=\"text-align: right;\">\n",
       "      <th></th>\n",
       "      <th>user_id</th>\n",
       "      <th>item_id</th>\n",
       "      <th>numeric_rating</th>\n",
       "    </tr>\n",
       "  </thead>\n",
       "  <tbody>\n",
       "    <tr>\n",
       "      <th>0</th>\n",
       "      <td>U87243</td>\n",
       "      <td>N94157</td>\n",
       "      <td>1.0</td>\n",
       "    </tr>\n",
       "    <tr>\n",
       "      <th>1</th>\n",
       "      <td>U87243</td>\n",
       "      <td>N78699</td>\n",
       "      <td>1.0</td>\n",
       "    </tr>\n",
       "  </tbody>\n",
       "</table>\n",
       "</div>"
      ],
      "text/plain": [
       "  user_id item_id  numeric_rating\n",
       "0  U87243  N94157             1.0\n",
       "1  U87243  N78699             1.0"
      ]
     },
     "metadata": {},
     "execution_count": 9
    }
   ],
   "metadata": {}
  },
  {
   "cell_type": "code",
   "execution_count": 10,
   "source": [
    "filtered_ratings.to_csv('librec-auto-study/data/ratings.csv', header=False, index=False)\n",
    "filtered_ratings.head(50000).to_csv('librec-auto-study/data/ratings-sample.csv', header=False, index=False)"
   ],
   "outputs": [],
   "metadata": {}
  }
 ],
 "metadata": {
  "orig_nbformat": 4,
  "language_info": {
   "name": "python",
   "version": "3.8.10",
   "mimetype": "text/x-python",
   "codemirror_mode": {
    "name": "ipython",
    "version": 3
   },
   "pygments_lexer": "ipython3",
   "nbconvert_exporter": "python",
   "file_extension": ".py"
  },
  "kernelspec": {
   "name": "python3",
   "display_name": "Python 3.8.10 64-bit"
  },
  "interpreter": {
   "hash": "916dbcbb3f70747c44a77c7bcd40155683ae19c65e1c03b4aa3499c5328201f1"
  }
 },
 "nbformat": 4,
 "nbformat_minor": 2
}